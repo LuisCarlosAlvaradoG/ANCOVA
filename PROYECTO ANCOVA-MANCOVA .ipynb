{
 "cells": [
  {
   "cell_type": "markdown",
   "id": "6e88a05f",
   "metadata": {},
   "source": [
    "<div style=\"text-align: center; font-size: 24px;\"> Uso de Análisis de Covarianza (ANCOVA) en investigación científica <br></div>\n",
    "<div style=\"text-align: center;font-size: 24px;\"> (Use of covariance analysis (ANCOVA) in scientific research) </div>"
   ]
  },
  {
   "cell_type": "markdown",
   "id": "384ce4e5",
   "metadata": {},
   "source": [
    "<div style=\"text-align: justify;\"> <div style=\"font-weight: bold;\">Resumen. </div>Se presentan las bases del ANálisis de COVArianza (ANCOVA). Se manejan los\n",
    "propósitos y la aplicación de este método estadístico. Se discuten las técnicas para la estimación\n",
    "de los contrastes, el control y la disminución del grado de error. Se presentan un ANCOVA\n",
    "simple mediante un ejemplo de datos reales. Se enfatiza el papel de esta técnica estadística en\n",
    "fijar el efecto de la variable auxiliar en el experimento. </div>"
   ]
  },
  {
   "cell_type": "markdown",
   "id": "3b95aea0",
   "metadata": {},
   "source": [
    "**_Ejemplo._** <div style=\"text-align: justify;\">Un experimento de fertilizantes con el diseño San Cristóbal (12\n",
    "tratamientos en cuatro bloques completos al azar), realizado por el IMPA en\n",
    "la zona de abastecimiento del ingenio Motzorongo, en el estado de Veracruz,\n",
    "cosechado en plantilla durante la zafra 1977 – 1978, produjo los resultados\n",
    "de la Tabla 2. En esta tabla la Y es el rendimiento de caña en toneladas por\n",
    "hectárea, y X es el número observado de tallos molederos por parcela\n",
    "experimental. Se propone examinar el efecto de los nutrientes sobre el rendimiento de caña, eliminando a través de la técnica de covarianza, el\n",
    "efecto del número de tallos molederos (Martínez-Garza, 1988). </div>"
   ]
  },
  {
   "cell_type": "markdown",
   "id": "d39b17f5",
   "metadata": {},
   "source": [
    "**Referencia**\n",
    "Badii, M.H., J. Castillo & A. Wong (2008)  Use of covariance analysis (ANCOVA) in scientific research. Consulted: https://eprints.uanl.mx/12489/1/A3.pdf"
   ]
  },
  {
   "cell_type": "markdown",
   "id": "589396ef",
   "metadata": {},
   "source": [
    "![Ejemplo de imagen](./PAM_1.png)"
   ]
  },
  {
   "cell_type": "code",
   "execution_count": null,
   "id": "84e42aab",
   "metadata": {},
   "outputs": [],
   "source": [
    "import pingouin as pg\n",
    "import numpy as np\n",
    "import pandas as pd\n",
    "import matplotlib.pyplot as plt\n",
    "import statsmodels.api as sm\n",
    "from sklearn import linear_model\n",
    "from sklearn.model_selection import train_test_split\n",
    "from statsmodels.formula.api import ols\n",
    "from statsmodels.stats.multicomp import MultiComparison"
   ]
  },
  {
   "cell_type": "code",
   "execution_count": null,
   "id": "352ddd98",
   "metadata": {},
   "outputs": [],
   "source": [
    "data = {\n",
    "    'Tratamientos': list(range(1, 13)),\n",
    "    'I_Y': [107.5, 89.2, 102.2, 88.1, 121.4, 119.4, 110.6, 106.4, 114.7, 116.4, 96.1, 102.5],\n",
    "    'I_X': [319, 300, 280, 318, 308, 306, 316, 290, 315, 330, 302, 321],\n",
    "    'II_Y': [103.6, 102.8, 110.0, 105.0, 100.3, 111.1, 113.6, 120.0, 106.9, 129.2, 107.8, 114.4],\n",
    "    'II_X': [308, 307, 280, 315, 304, 310, 303, 306, 299, 315, 353, 307],\n",
    "    'III_Y': [84.4, 84.5, 76.9, 104.7, 111.7, 100.8, 114.7, 88.9, 114.4, 106.4, 106.5, 116.4],\n",
    "    'III_X': [319, 320, 299, 319, 315, 334, 284, 314, 310, 319, 310, 316],\n",
    "    'IV_Y': [115.6, 108.1, 87.5, 120.3, 126.1, 119.2, 122.2, 130.0, 115.8, 136.9, 122.8, 126.7],\n",
    "    'IV_X': [275, 302, 268, 311, 290, 296, 295, 299, 297, 317, 294, 302],\n",
    "}\n",
    "df = pd.DataFrame(data)\n",
    "\n",
    "df['SUMA_Y'] = df.filter(like='_Y').sum(axis=1)\n",
    "df['SUMA_X'] = df.filter(like='_X').sum(axis=1)\n",
    "df"
   ]
  },
  {
   "cell_type": "code",
   "execution_count": null,
   "id": "dea27477",
   "metadata": {},
   "outputs": [],
   "source": [
    "# ancova(data=df, dv='SUMA_Y', covar='I_X', between='Tratamientos')"
   ]
  },
  {
   "cell_type": "code",
   "execution_count": null,
   "id": "e577ba73",
   "metadata": {},
   "outputs": [],
   "source": [
    "data = {\n",
    "    'Tratamientos': list(range(1, 13)) * 4,\n",
    "    \"Parcela\" : [\"I\"] * 12 + [\"II\"] * 12 + [\"III\"] * 12 + [\"IV\"] * 12,\n",
    "    'Y': [107.5, 89.2, 102.2, 88.1, 121.4, 119.4, 110.6, 106.4, 114.7, 116.4, 96.1, 102.5, \n",
    "          103.6, 102.8, 110.0, 105.0, 100.3, 111.1, 113.6, 120.0, 106.9, 129.2, 107.8, 114.4,\n",
    "          84.4, 84.5, 76.9, 104.7, 111.7, 100.8, 114.7, 88.9, 114.4, 106.4, 106.5, 116.4, \n",
    "          115.6, 108.1, 87.5, 120.3, 126.1, 119.2, 122.2, 130.0, 115.8, 136.9, 122.8, 126.7],\n",
    "    'X': [319, 300, 280, 318, 308, 306, 316, 290, 315, 330, 302, 321,\n",
    "          308, 307, 280, 315, 304, 310, 303, 306, 299, 315, 353, 307,\n",
    "          319, 320, 299, 319, 315, 334, 284, 314, 310, 319, 310, 316,\n",
    "          275, 302, 268, 311, 290, 296, 295, 299, 297, 317, 294, 302],\n",
    "\n",
    "}\n",
    "df = pd.DataFrame(data)\n",
    "df"
   ]
  },
  {
   "cell_type": "code",
   "execution_count": null,
   "id": "4707555f",
   "metadata": {},
   "outputs": [],
   "source": [
    "#Cuenta el número de individuos que hay en cada grupo\n",
    "df.boxplot('Y',by='Tratamientos',rot=90)"
   ]
  },
  {
   "cell_type": "markdown",
   "id": "d7c4fbff",
   "metadata": {},
   "source": [
    "# Cumplimiento de supuestos"
   ]
  },
  {
   "cell_type": "code",
   "execution_count": null,
   "id": "71f61910",
   "metadata": {},
   "outputs": [],
   "source": [
    "# Normalidad\n",
    "#Normalidad prueba de Shapiro-Wilk\n",
    "#Ho:Normalidad(p>0.05)\n",
    "#H1: No normalidad (p<0.05)\n",
    "#Normalidad en las variables\n",
    "pg.normality(df, dv='Y', group='Tratamientos')"
   ]
  },
  {
   "cell_type": "code",
   "execution_count": null,
   "id": "826fe96a",
   "metadata": {},
   "outputs": [],
   "source": [
    "# Varianza entre grupos      \n",
    "#Homocedasticidad prueba de Levene (sin normalidad)\n",
    "#Ho:Homocedasticidad (p>0.05)\n",
    "#H1: No Homocedasticidad (p<0.05)\n",
    "pg.homoscedasticity(df, dv='Y', \n",
    "                    group='Tratamientos',method='levene')"
   ]
  },
  {
   "cell_type": "code",
   "execution_count": null,
   "id": "54cca238",
   "metadata": {},
   "outputs": [],
   "source": [
    "#Homocedasticidad prueba de Bartlett (con normalidad)\n",
    "#Ho:Homocedasticidad (p>0.05)\n",
    "#H1: No Homocedasticidad (p<0.05)\n",
    "pg.homoscedasticity(df, dv='Y', \n",
    "                    group='Tratamientos',method='bartlett')"
   ]
  },
  {
   "cell_type": "code",
   "execution_count": null,
   "id": "4eed376d",
   "metadata": {},
   "outputs": [],
   "source": [
    "Y_1 = df[df[\"Parcela\"] == \"I\"][\"Y\"].to_numpy()\n",
    "X_1 = df[df[\"Parcela\"] == \"I\"][\"X\"].to_numpy().reshape(-1,1)\n",
    "Y_2 = df[df[\"Parcela\"] == \"II\"][\"Y\"].to_numpy()\n",
    "X_2 = df[df[\"Parcela\"] == \"II\"][\"X\"].to_numpy().reshape(-1,1)\n",
    "Y_3 = df[df[\"Parcela\"] == \"III\"][\"Y\"].to_numpy()\n",
    "X_3 = df[df[\"Parcela\"] == \"III\"][\"X\"].to_numpy().reshape(-1,1)\n",
    "Y_4 = df[df[\"Parcela\"] == \"IV\"][\"Y\"].to_numpy()\n",
    "X_4 = df[df[\"Parcela\"] == \"IV\"][\"X\"].to_numpy().reshape(-1,1)\n",
    "\n",
    "X_train_1,X_test_1,Y_train_1,Y_test_1=train_test_split(X_1,Y_1, test_size=0.9)\n",
    "X_train_2,X_test_2,Y_train_2,Y_test_2=train_test_split(X_2,Y_2, test_size=0.9)\n",
    "X_train_3,X_test_3,Y_train_3,Y_test_3=train_test_split(X_3,Y_3, test_size=0.9)\n",
    "X_train_4,X_test_4,Y_train_4,Y_test_4=train_test_split(X_4,Y_4, test_size=0.9)\n",
    "\n",
    "rls=linear_model.LinearRegression()\n",
    "modelo_1=rls.fit(X_train_1,Y_train_1)\n",
    "Y_pred_1=rls.predict(X_test_1)\n",
    "modelo_2=rls.fit(X_train_2,Y_train_2)\n",
    "Y_pred_2=rls.predict(X_test_2)\n",
    "modelo_3=rls.fit(X_train_3,Y_train_3)\n",
    "Y_pred_3=rls.predict(X_test_3)\n",
    "modelo_4=rls.fit(X_train_4,Y_train_4)\n",
    "Y_pred_4=rls.predict(X_test_4)\n",
    "\n",
    "#Gráfica del modelo\n",
    "plt.scatter(X_test_1[:, 0], Y_test_1, label='Valores reales 1')\n",
    "plt.plot(X_test_1[:, 0], Y_pred_1, color='r', label='RL 1', linewidth=3)\n",
    "plt.scatter(X_test_2[:, 0], Y_test_2, label='Valores reales 2')\n",
    "plt.plot(X_test_2[:, 0], Y_pred_2, color='r', label='RL 2', linewidth=3)\n",
    "plt.scatter(X_test_3[:, 0], Y_test_3, label='Valores reales 3')\n",
    "plt.plot(X_test_3[:, 0], Y_pred_3, color='r', label='RL 3', linewidth=3)\n",
    "plt.scatter(X_test_4[:, 0], Y_test_4, label='Valores reales 4')\n",
    "plt.plot(X_test_4[:, 0], Y_pred_4, color='r', label='RL 4', linewidth=3)\n",
    "plt.title('Regresión Lineal')\n",
    "plt.xlabel('Tallos molederos')\n",
    "plt.ylabel('Hectáreas Totales')\n",
    "plt.legend()\n",
    "plt.show()"
   ]
  },
  {
   "cell_type": "code",
   "execution_count": null,
   "id": "17148a37",
   "metadata": {},
   "outputs": [],
   "source": [
    "model = ols('Y ~ C(Tratamientos) * X', data=df).fit()\n",
    "anova_table = sm.stats.anova_lm(model, typ=2)\n",
    "print(anova_table)"
   ]
  },
  {
   "cell_type": "markdown",
   "id": "920348a2",
   "metadata": {},
   "source": [
    "# ANCOVA"
   ]
  },
  {
   "cell_type": "code",
   "execution_count": null,
   "id": "95795406",
   "metadata": {},
   "outputs": [],
   "source": [
    "model = ols('Y ~ C(Tratamientos) + X', data=df).fit()\n",
    "anova_table = sm.stats.anova_lm(model, typ=2)\n",
    "print(anova_table)"
   ]
  },
  {
   "cell_type": "markdown",
   "id": "769bf590",
   "metadata": {},
   "source": [
    "# PINGOUIN.ANCOVA\n",
    "\n",
    "#### Parameters \n",
    "**datapandas.DataFrame**<br>\n",
    "DataFrame. Note that this function can also directly be used as a Pandas method, in which case this argument is no longer needed.<br>\n",
    "\n",
    "**dvstring**<br>\n",
    "Name of column in data with the dependent variable.<br>\n",
    "\n",
    "**betweenstring**<br>\n",
    "Name of column in data with the between factor.<br>\n",
    "\n",
    "**covarstring or list**<br>\n",
    "Name(s) of column(s) in data with the covariate.<br>\n",
    "\n",
    "**effsizestr**<br>\n",
    "Effect size. Must be ‘np2’ (partial eta-squared) or ‘n2’ (eta-squared).<br>\n",
    "\n",
    "#### Returns\n",
    "aovpandas.DataFrame<br>\n",
    "ANCOVA summary:\n",
    "\n",
    "'Source': Names of the factor considered\n",
    "\n",
    "'SS': Sums of squares\n",
    "\n",
    "'DF': Degrees of freedom\n",
    "\n",
    "'F': F-values\n",
    "\n",
    "'p-unc': Uncorrected p-values\n",
    "\n",
    "'np2': Partial eta-squared"
   ]
  },
  {
   "cell_type": "code",
   "execution_count": null,
   "id": "eff4d92d",
   "metadata": {},
   "outputs": [],
   "source": [
    "pg.ancova(data=df, dv='Y', covar='X', between='Tratamientos')"
   ]
  },
  {
   "cell_type": "markdown",
   "id": "deee6cc2",
   "metadata": {},
   "source": [
    "# POST HOC"
   ]
  },
  {
   "cell_type": "code",
   "execution_count": null,
   "id": "ffb5fca9",
   "metadata": {
    "scrolled": false
   },
   "outputs": [],
   "source": [
    "# Realizar una prueba de Tukey\n",
    "comp = MultiComparison(df['Y'], df['Tratamientos'])\n",
    "post_hoc_res = comp.tukeyhsd()\n",
    "print(post_hoc_res.summary())"
   ]
  },
  {
   "cell_type": "code",
   "execution_count": null,
   "id": "4c9d487a",
   "metadata": {},
   "outputs": [],
   "source": [
    "pg.pairwise_tukey(data=df, dv='Y', between='Tratamientos')"
   ]
  },
  {
   "cell_type": "markdown",
   "id": "13eeddd6",
   "metadata": {},
   "source": [
    "# PRÁCTICA"
   ]
  },
  {
   "cell_type": "code",
   "execution_count": null,
   "id": "54683cdf",
   "metadata": {},
   "outputs": [],
   "source": [
    "# from pingouin import ancova, read_dataset\n",
    "# df = read_dataset('ancova')\n",
    "# df"
   ]
  },
  {
   "cell_type": "code",
   "execution_count": null,
   "id": "057dad81",
   "metadata": {},
   "outputs": [],
   "source": [
    "# ancova(data=df, dv='Scores', covar='Income', between='Method')"
   ]
  },
  {
   "cell_type": "code",
   "execution_count": null,
   "id": "923039a6",
   "metadata": {},
   "outputs": [],
   "source": [
    "# ancova(data=df, dv='Scores', covar=['Income', 'BMI'], between='Method',\n",
    "#        effsize=\"n2\")"
   ]
  },
  {
   "cell_type": "code",
   "execution_count": null,
   "id": "857490b4",
   "metadata": {},
   "outputs": [],
   "source": []
  }
 ],
 "metadata": {
  "kernelspec": {
   "display_name": "Python 3 (ipykernel)",
   "language": "python",
   "name": "python3"
  },
  "language_info": {
   "codemirror_mode": {
    "name": "ipython",
    "version": 3
   },
   "file_extension": ".py",
   "mimetype": "text/x-python",
   "name": "python",
   "nbconvert_exporter": "python",
   "pygments_lexer": "ipython3",
   "version": "3.9.13"
  }
 },
 "nbformat": 4,
 "nbformat_minor": 5
}
